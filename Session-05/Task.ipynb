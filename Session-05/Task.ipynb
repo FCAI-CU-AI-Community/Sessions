{
 "cells": [
  {
   "cell_type": "markdown",
   "metadata": {},
   "source": [
    "Requirements:\n",
    "\n",
    "a. Load the \"co2_emissions_data.csv\" you get it from [Link](https://www.kaggle.com/datasets/debajyotipodder/co2-emission-by-vehicles)\n",
    "\n",
    "\n",
    "b. Perform analysis on the dataset to:\n",
    "    \n",
    " 1. check whether there are missing values\n",
    "    \n",
    " 2. check whether numeric features have the same scale\n",
    "    \n",
    " 3. use pairplot to know relations between features and target\n",
    "    \n",
    " 4. use correlation heatmap between numeric columns\n",
    "\n",
    "c. Preprocess the data such that:\n",
    "    \n",
    " 1. separate features and target\n",
    "    \n",
    " 2. categorical features and target are encoded\n",
    "    \n",
    " 3. split data into training and testing sets\n",
    "    \n",
    " 4. numeric features are scaled (numeric features of test set should be scaled using \n",
    "    statistics of train set that were used to scale it ==> search for difference between scaler.fit() and scaler.transform() in scikit learn library)\n",
    "\n",
    "d. use linear, lasso and ridge regression on training data\n",
    "\n",
    "e. evaluate models on test data using R2, MSE, RMSE, MAE\n"
   ]
  }
 ],
 "metadata": {
  "language_info": {
   "name": "python"
  }
 },
 "nbformat": 4,
 "nbformat_minor": 2
}
