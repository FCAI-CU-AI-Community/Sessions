{
 "cells": [
  {
   "cell_type": "markdown",
   "metadata": {},
   "source": [
    "# Session-05"
   ]
  },
  {
   "cell_type": "markdown",
   "metadata": {},
   "source": [
    "## Over-fitting and Under-fitting Visualization"
   ]
  },
  {
   "cell_type": "code",
   "execution_count": 1,
   "metadata": {},
   "outputs": [],
   "source": [
    "from sklearn.linear_model import LinearRegression, Ridge, Lasso\n",
    "from sklearn.pipeline import make_pipeline\n",
    "import numpy as np\n",
    "import matplotlib.pyplot as plt\n",
    "from ipywidgets import interact, IntSlider, FloatSlider, RadioButtons\n",
    "import random\n",
    "\n",
    "# Set seed for reproducibility\n",
    "random.seed(42)"
   ]
  },
  {
   "cell_type": "code",
   "execution_count": null,
   "metadata": {},
   "outputs": [
    {
     "data": {
      "application/vnd.jupyter.widget-view+json": {
       "model_id": "68e9295c68444561a4b59fb06f5bf562",
       "version_major": 2,
       "version_minor": 0
      },
      "text/plain": [
       "interactive(children=(IntSlider(value=100, description='Points', max=1000, min=10, step=10), IntSlider(value=2…"
      ]
     },
     "metadata": {},
     "output_type": "display_data"
    }
   ],
   "source": [
    "# Function to fit and plot the model\n",
    "def plot_model(x, y, model_degree: int, regularizer: str, lambda_: float):\n",
    "    if regularizer == 'Lasso':\n",
    "        model = make_pipeline(PolynomialFeatures(model_degree), Lasso(alpha=lambda_, max_iter=10000))\n",
    "    elif regularizer == 'Ridge':\n",
    "        model = make_pipeline(PolynomialFeatures(model_degree), Ridge(alpha=lambda_))\n",
    "    else:\n",
    "        model = make_pipeline(PolynomialFeatures(model_degree), LinearRegression())\n",
    "\n",
    "    model.fit(x.reshape(-1, 1), y)\n",
    "    x_pred = np.linspace(-3, 3, 100).reshape(-1, 1)\n",
    "    y_pred = model.predict(x_pred)\n",
    "    plt.plot(x_pred, y_pred, color='red', label=f'Model (Degree: {model_degree})')\n",
    "\n",
    "# Function for generating and plotting the data\n",
    "def generate_data(n: int = 1000, degree: int = 2, noise_level: float = 0.2) -> None:\n",
    "    x = np.random.normal(0, 1, n)\n",
    "    y = np.zeros(n)\n",
    "    for i in range(1, degree + 1):\n",
    "        y += (x ** i) + random.uniform(-1, 1)\n",
    "    y += np.random.normal(0, noise_level, n)\n",
    "    return x, y\n",
    "\n",
    "# Interactive function to combine both plots\n",
    "def interactive_plot(model):\n",
    "    def update(n: int = 1000, model_degree: int = 1, data_degree: int = 2, noise_level: float = 0.2, regularizer: str = 'None', lambda_: float = 0.0):\n",
    "        plt.figure(figsize=(10, 6))\n",
    "        x, y = generate_data(n=n, degree=data_degree, noise_level=noise_level)\n",
    "        plt.scatter(x, y, alpha=0.5, label='Data', color='blue')\n",
    "        plot_model(x=x, y=y, model_degree=model_degree, regularizer=regularizer, lambda_=lambda_)\n",
    "        plt.xlabel('x')\n",
    "        plt.ylabel('y')\n",
    "        plt.title(f'Model vs Data (Regularizer: {regularizer}, λ: {lambda_})')\n",
    "        plt.grid(True)\n",
    "        plt.legend()\n",
    "        plt.show()\n",
    "\n",
    "    interact(\n",
    "        update,\n",
    "        n=IntSlider(value=100, min=10, max=1000, step=10, description='Points'),\n",
    "        model_degree=IntSlider(value=2, min=1, max=20, step=1, description='Model Degree'),\n",
    "        data_degree=IntSlider(value=2, min=1, max=10, step=1, description='Data Degree'),\n",
    "        noise_level=FloatSlider(value=0.2, min=0.0, max=1.0, step=0.05, description='Noise'),\n",
    "        lambda_=FloatSlider(value=0.0, min=0.0, max=1.0, step=0.05, description='Lambda'),\n",
    "        regularizer=RadioButtons(\n",
    "            options=['None', 'Ridge', 'Lasso'],\n",
    "            value='None',\n",
    "            description='Regularizer'\n",
    "        )\n",
    "    )\n",
    "\n",
    "# Example usage with a pre-fitted model\n",
    "from sklearn.preprocessing import PolynomialFeatures\n",
    "from sklearn.linear_model import LinearRegression\n",
    "from sklearn.pipeline import make_pipeline\n",
    "\n",
    "# Create and fit a model\n",
    "degree = 3\n",
    "model = make_pipeline(PolynomialFeatures(degree), LinearRegression())\n",
    "x_train = np.linspace(-3, 3, 20).reshape(-1, 1)\n",
    "y_train = x_train ** degree + np.random.normal(0, 0.5, size=x_train.shape)\n",
    "model.fit(x_train, y_train)\n",
    "\n",
    "# Launch the interactive plot\n",
    "interactive_plot(model)\n"
   ]
  },
  {
   "cell_type": "code",
   "execution_count": null,
   "metadata": {},
   "outputs": [],
   "source": []
  }
 ],
 "metadata": {
  "kernelspec": {
   "display_name": "Python 3",
   "language": "python",
   "name": "python3"
  },
  "language_info": {
   "codemirror_mode": {
    "name": "ipython",
    "version": 3
   },
   "file_extension": ".py",
   "mimetype": "text/x-python",
   "name": "python",
   "nbconvert_exporter": "python",
   "pygments_lexer": "ipython3",
   "version": "3.12.1"
  }
 },
 "nbformat": 4,
 "nbformat_minor": 2
}
