{
  "cells": [
    {
      "cell_type": "markdown",
      "metadata": {
        "id": "view-in-github",
        "colab_type": "text"
      },
      "source": [
        "<a href=\"https://colab.research.google.com/github/FCAI-CU-AI-Community/Python/blob/main/Session_2_file_io.ipynb\" target=\"_parent\"><img src=\"https://colab.research.google.com/assets/colab-badge.svg\" alt=\"Open In Colab\"/></a>"
      ]
    },
    {
      "cell_type": "markdown",
      "metadata": {
        "id": "HyqKRYkdznwY"
      },
      "source": [
        "# FILE I/O and Context Manager\n",
        "\n",
        "**`FCAI-CU-AI-Community`**:\n",
        "- [Discord](https://discord.com/invite/UGpXXsQ2qw)\n",
        "- [GitHub](https://github.com/FCAI-CU-AI-Community)\n",
        "- [YouTube](https://www.youtube.com/@FCAI-CU-AI-COMMUNITY)"
      ]
    },
    {
      "cell_type": "markdown",
      "source": [
        "# Outline:\n",
        "- [Open the file](#id1)\n",
        "- [Closing the file](#id2)\n",
        "- [Reading from file](#id3)\n",
        "- [Writing to file](#id4)\n",
        "- [Appending to file](#id5)\n",
        "- [Context Manager](#id6)"
      ],
      "metadata": {
        "id": "HzELDaOhzqyw"
      }
    },
    {
      "cell_type": "markdown",
      "metadata": {
        "id": "ADDxsN2pznwZ"
      },
      "source": [
        "## <a name=\"id1\">Open the file<a>"
      ]
    },
    {
      "cell_type": "markdown",
      "metadata": {
        "id": "NhEoJxSjznwa"
      },
      "source": [
        "### Reading Mode"
      ]
    },
    {
      "cell_type": "code",
      "execution_count": null,
      "metadata": {
        "id": "-4cLm4oXznwa",
        "outputId": "5d47b979-e5ac-4b94-d257-81dac8948c43"
      },
      "outputs": [
        {
          "data": {
            "text/plain": [
              "<_io.TextIOWrapper name='file.txt' mode='r' encoding='cp1252'>"
            ]
          },
          "metadata": {},
          "output_type": "display_data"
        },
        {
          "name": "stdout",
          "output_type": "stream",
          "text": [
            "<class '_io.TextIOWrapper'>\n"
          ]
        }
      ],
      "source": [
        "# The original file path\n",
        "file_name = \"file.txt\"\n",
        "\n",
        "# Open the file and return file object to be used\n",
        "file_object = open(file=file_name, mode='r') # Reading mode\n",
        "\n",
        "display(file_object)\n",
        "print(type(file_object))"
      ]
    },
    {
      "cell_type": "markdown",
      "metadata": {
        "id": "W58rMrZlznwa"
      },
      "source": [
        "### Writing Mode"
      ]
    },
    {
      "cell_type": "code",
      "execution_count": null,
      "metadata": {
        "id": "qp3PAj1tznwb",
        "outputId": "28812809-33b1-4e38-c83c-d6382d335763"
      },
      "outputs": [
        {
          "data": {
            "text/plain": [
              "<_io.TextIOWrapper name='file.txt' mode='w' encoding='cp1252'>"
            ]
          },
          "metadata": {},
          "output_type": "display_data"
        },
        {
          "name": "stdout",
          "output_type": "stream",
          "text": [
            "<class '_io.TextIOWrapper'>\n"
          ]
        }
      ],
      "source": [
        "# The original file path\n",
        "file_name = \"file.txt\"\n",
        "\n",
        "# Open the file and return file object to be used\n",
        "file_object = open(file=file_name, mode='w') # Writing mode\n",
        "\n",
        "display(file_object)\n",
        "print(type(file_object))"
      ]
    },
    {
      "cell_type": "markdown",
      "metadata": {
        "id": "lc57kL1lznwb"
      },
      "source": [
        "### Appending Mode"
      ]
    },
    {
      "cell_type": "code",
      "execution_count": null,
      "metadata": {
        "id": "hYI0URVjznwb",
        "outputId": "178c8b6f-6e1a-4ca2-c235-b93c600b2f35"
      },
      "outputs": [
        {
          "data": {
            "text/plain": [
              "<_io.TextIOWrapper name='file.txt' mode='a' encoding='cp1252'>"
            ]
          },
          "metadata": {},
          "output_type": "display_data"
        },
        {
          "name": "stdout",
          "output_type": "stream",
          "text": [
            "<class '_io.TextIOWrapper'>\n"
          ]
        }
      ],
      "source": [
        "# The original file path\n",
        "file_name = \"file.txt\"\n",
        "\n",
        "# Open the file and return file object to be used\n",
        "file_object = open(file=file_name, mode='a') # Appending mode\n",
        "\n",
        "display(file_object)\n",
        "print(type(file_object))"
      ]
    },
    {
      "cell_type": "markdown",
      "metadata": {
        "id": "wefBDg_Tznwb"
      },
      "source": [
        "## <a name=\"id2\">Closing the file<a>"
      ]
    },
    {
      "cell_type": "code",
      "execution_count": null,
      "metadata": {
        "id": "zW8YuJh0znwb"
      },
      "outputs": [],
      "source": [
        "file_name = \"file.txt\"\n",
        "file_object = open(file=file_name)\n",
        "\n",
        "file_object.close()\n",
        "# Now you can't access file again\n",
        "\n",
        "# file_object.read() # Error"
      ]
    },
    {
      "cell_type": "markdown",
      "metadata": {
        "id": "ab-QcE0Mznwb"
      },
      "source": [
        "## <a name=\"id3\">Reading from file<a>\n",
        "- File Must be exist"
      ]
    },
    {
      "cell_type": "code",
      "execution_count": null,
      "metadata": {
        "id": "4YPj9Z19znwc"
      },
      "outputs": [],
      "source": [
        "# The original file path\n",
        "file_name = \"file.txt\""
      ]
    },
    {
      "cell_type": "code",
      "execution_count": null,
      "metadata": {
        "id": "6kHlZMaTznwc",
        "outputId": "40a42cbc-7859-4ec2-f54c-02637df8cd8e"
      },
      "outputs": [
        {
          "data": {
            "text/plain": [
              "True"
            ]
          },
          "execution_count": 33,
          "metadata": {},
          "output_type": "execute_result"
        }
      ],
      "source": [
        "file_object = open(file=file_name, mode='r') # Reading mode\n",
        "\n",
        "# Check if we can read from the file\n",
        "file_object.readable()\n",
        "\n",
        "# DON'T FORGET TO CLOSE THE FILE\n",
        "file_object.close()"
      ]
    },
    {
      "cell_type": "code",
      "execution_count": null,
      "metadata": {
        "id": "vj56vCilznwc",
        "outputId": "44a8e5bc-f78a-478a-a302-1ff94bf56db3"
      },
      "outputs": [
        {
          "data": {
            "text/plain": [
              "'Hello, World!\\nHello, Python!\\n'"
            ]
          },
          "execution_count": 34,
          "metadata": {},
          "output_type": "execute_result"
        }
      ],
      "source": [
        "file_object = open(file=file_name, mode='r') # Reading mode\n",
        "# Read all file content as a string\n",
        "file_object.read()\n",
        "\n",
        "# DON'T FORGET TO CLOSE THE FILE\n",
        "file_object.close()"
      ]
    },
    {
      "cell_type": "code",
      "execution_count": null,
      "metadata": {
        "id": "uwE7835nznwc",
        "outputId": "15fa4918-6357-4d01-a77e-e497841a00a0"
      },
      "outputs": [
        {
          "data": {
            "text/plain": [
              "['Hello, World!\\n', 'Hello, Python!\\n']"
            ]
          },
          "execution_count": 35,
          "metadata": {},
          "output_type": "execute_result"
        }
      ],
      "source": [
        "file_object = open(file=file_name, mode='r') # Reading mode\n",
        "# Read all file content as a list of lines\n",
        "file_object.readlines()\n",
        "\n",
        "# DON'T FORGET TO CLOSE THE FILE\n",
        "file_object.close()"
      ]
    },
    {
      "cell_type": "code",
      "execution_count": null,
      "metadata": {
        "id": "3iaz24hfznwd",
        "outputId": "3c704854-9f99-4645-cda1-d8c594a306c4"
      },
      "outputs": [
        {
          "data": {
            "text/plain": [
              "'Hello, World!\\n'"
            ]
          },
          "metadata": {},
          "output_type": "display_data"
        },
        {
          "data": {
            "text/plain": [
              "'Hello, Python!\\n'"
            ]
          },
          "metadata": {},
          "output_type": "display_data"
        }
      ],
      "source": [
        "file_object = open(file=file_name, mode='r') # Reading mode\n",
        "\n",
        "# Read line by line\n",
        "display(file_object.readline())\n",
        "\n",
        "# Read line by line\n",
        "display(file_object.readline())\n",
        "\n",
        "# DON'T FORGET TO CLOSE THE FILE\n",
        "file_object.close()"
      ]
    },
    {
      "cell_type": "code",
      "execution_count": null,
      "metadata": {
        "id": "Fo1efFyMznwd",
        "outputId": "7fac9bf9-e4dc-4280-9e56-7eb2aee89897"
      },
      "outputs": [
        {
          "data": {
            "text/plain": [
              "'Hello, World!\\n'"
            ]
          },
          "metadata": {},
          "output_type": "display_data"
        },
        {
          "data": {
            "text/plain": [
              "'Hello, Python!\\n'"
            ]
          },
          "metadata": {},
          "output_type": "display_data"
        }
      ],
      "source": [
        "file_object = open(file=file_name, mode='r') # Reading mode\n",
        "\n",
        "# Read line by line using for loop\n",
        "for line in file_object.readlines():\n",
        "    display(line)\n",
        "\n",
        "# DON'T FORGET TO CLOSE THE FILE\n",
        "file_object.close()"
      ]
    },
    {
      "cell_type": "markdown",
      "metadata": {
        "id": "JUIBXzckznwd"
      },
      "source": [
        "## <a name=\"id4\">Writing to file<a>\n",
        "- File Doesn't need to exist"
      ]
    },
    {
      "cell_type": "code",
      "execution_count": null,
      "metadata": {
        "id": "hfB8Fpbvznwd"
      },
      "outputs": [],
      "source": [
        "# The original file path\n",
        "file_name = \"file.txt\""
      ]
    },
    {
      "cell_type": "code",
      "execution_count": null,
      "metadata": {
        "id": "rsGhYfCNznwd",
        "outputId": "5f0bffca-45f0-4a9a-bebc-ee86a18944ac"
      },
      "outputs": [
        {
          "data": {
            "text/plain": [
              "True"
            ]
          },
          "execution_count": 62,
          "metadata": {},
          "output_type": "execute_result"
        }
      ],
      "source": [
        "file_object = open(file=file_name, mode='w') # Reading mode\n",
        "\n",
        "# Check if we can write to the file\n",
        "file_object.writable()\n",
        "\n",
        "# DON'T FORGET TO CLOSE THE FILE\n",
        "file_object.close()"
      ]
    },
    {
      "cell_type": "code",
      "execution_count": null,
      "metadata": {
        "id": "OemNb-xOznwd",
        "outputId": "b53c23ff-133d-45d0-ab13-d509836f5881"
      },
      "outputs": [
        {
          "data": {
            "text/plain": [
              "19"
            ]
          },
          "metadata": {},
          "output_type": "display_data"
        }
      ],
      "source": [
        "file_object = open(file=file_name, mode='w') # Reading mode\n",
        "\n",
        "# Write to the file\n",
        "# Takes one string\n",
        "display(file_object.write(\"This is a new line.\")) # Returns the number of characters written to the file\n",
        "\n",
        "# flush to put the line written immediately\n",
        "file_object.flush()\n",
        "\n",
        "# DON'T FORGET TO CLOSE THE FILE\n",
        "file_object.close()"
      ]
    },
    {
      "cell_type": "code",
      "execution_count": null,
      "metadata": {
        "id": "REXM_1nVznwd"
      },
      "outputs": [],
      "source": [
        "file_object = open(file=file_name, mode='w') # Reading mode\n",
        "# Write more than one line\n",
        "lines = [\"Line 1\\n\", \"Line 2\\n\", \"Line 3\\n\"]\n",
        "file_object.writelines(lines)\n",
        "\n",
        "file_object.flush()\n",
        "\n",
        "# DON'T FORGET TO CLOSE THE FILE\n",
        "file_object.close()"
      ]
    },
    {
      "cell_type": "markdown",
      "metadata": {
        "id": "rFzmV7zRznwd"
      },
      "source": [
        "## <a name=\"id5\">Appending to file<a>\n",
        "- File Doesn't need to exist"
      ]
    },
    {
      "cell_type": "code",
      "execution_count": null,
      "metadata": {
        "id": "PGKHtTWfznwe"
      },
      "outputs": [],
      "source": [
        "# The original file path\n",
        "file_name = \"file.txt\""
      ]
    },
    {
      "cell_type": "code",
      "execution_count": null,
      "metadata": {
        "id": "hfjkVvcvznwe"
      },
      "outputs": [],
      "source": [
        "file_object = open(file=file_name, mode='a') # Appending mode\n",
        "\n",
        "file_object.write(\"Line 4\\n\")\n",
        "\n",
        "file_object.flush()\n",
        "\n",
        "# DON'T FORGET TO CLOSE THE FILE\n",
        "file_object.close()"
      ]
    },
    {
      "cell_type": "code",
      "execution_count": null,
      "metadata": {
        "id": "_aqoy59Bznwe"
      },
      "outputs": [],
      "source": [
        "file_object = open(file=file_name, mode='a') # Appending mode\n",
        "\n",
        "lines = [\"Line 5\\n\", \"Line 6\\n\", \"Line 7\\n\"]\n",
        "file_object.writelines(lines)\n",
        "\n",
        "file_object.flush()\n",
        "\n",
        "# DON'T FORGET TO CLOSE THE FILE\n",
        "file_object.close()"
      ]
    },
    {
      "cell_type": "markdown",
      "metadata": {
        "id": "ApBqtQSNznwe"
      },
      "source": [
        "## <a name=\"id6\">Context Manager<a>"
      ]
    },
    {
      "cell_type": "markdown",
      "metadata": {
        "id": "lC6vF9WNznwe"
      },
      "source": [
        "Why do even i should care?? `Just do it for me!!`  \n",
        "![alt text](https://github.com/FCAI-CU-AI-Community/Python/blob/main/close_the_file.png?raw=1)"
      ]
    },
    {
      "cell_type": "markdown",
      "metadata": {
        "id": "or3iPbAyznwe"
      },
      "source": [
        "**Why use a context manager?**  \n",
        "When working with resources like files, network connections, or database connections, it's important to release them (close the file, close the connection) when you're done. A context manager simplifies this by automatically handling setup and cleanup tasks."
      ]
    },
    {
      "cell_type": "code",
      "execution_count": null,
      "metadata": {
        "id": "PFTxraWNznwe"
      },
      "outputs": [],
      "source": [
        "with open(\"file.txt\", \"w\") as file_object:\n",
        "    # Do all your work on the file here\n",
        "    # and don't care about closing or cleaning anything\n",
        "    file_object.write(\"Hello, world!\")\n",
        "\n",
        "# Now no need to close the file, It's already closed 🥳\n",
        "# file_object.read() # Error"
      ]
    }
  ],
  "metadata": {
    "kernelspec": {
      "display_name": "ml-env",
      "language": "python",
      "name": "python3"
    },
    "language_info": {
      "codemirror_mode": {
        "name": "ipython",
        "version": 3
      },
      "file_extension": ".py",
      "mimetype": "text/x-python",
      "name": "python",
      "nbconvert_exporter": "python",
      "pygments_lexer": "ipython3",
      "version": "3.11.9"
    },
    "colab": {
      "provenance": [],
      "include_colab_link": true
    }
  },
  "nbformat": 4,
  "nbformat_minor": 0
}