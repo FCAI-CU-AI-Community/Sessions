{
  "cells": [
    {
      "cell_type": "markdown",
      "metadata": {
        "id": "view-in-github",
        "colab_type": "text"
      },
      "source": [
        "<a href=\"https://colab.research.google.com/github/FCAI-CU-AI-Community/Sessions/blob/main/Session-02/Everything_is_object.ipynb\" target=\"_parent\"><img src=\"https://colab.research.google.com/assets/colab-badge.svg\" alt=\"Open In Colab\"/></a>"
      ]
    },
    {
      "cell_type": "markdown",
      "metadata": {
        "id": "LTd3aMn_n5Dv"
      },
      "source": [
        "# Everything is object\n",
        "\n",
        "**`FCAI-CU-AI-Community`**:\n",
        "- [Discord](https://discord.com/invite/UGpXXsQ2qw)\n",
        "- [GitHub](https://github.com/FCAI-CU-AI-Community)\n",
        "- [YouTube](https://www.youtube.com/@FCAI-CU-AI-COMMUNITY)"
      ]
    },
    {
      "cell_type": "markdown",
      "source": [
        "# Outline:\n",
        "- [Python Data Types](#id1)\n",
        "- [Functions](#id2)\n",
        "- [Modules](#id3)"
      ],
      "metadata": {
        "id": "rTw553pUn7Tj"
      }
    },
    {
      "cell_type": "markdown",
      "metadata": {
        "id": "z_RqpiUjn5Dx"
      },
      "source": [
        "## <a name=\"id1\">Python Data Types<a>"
      ]
    },
    {
      "cell_type": "code",
      "execution_count": null,
      "metadata": {
        "id": "IWPpbCfvn5Dy",
        "outputId": "b0d4b1f3-35d6-4cb9-947c-37fdba089f59",
        "colab": {
          "base_uri": "https://localhost:8080/"
        }
      },
      "outputs": [
        {
          "output_type": "stream",
          "name": "stdout",
          "text": [
            "<class 'int'>\n"
          ]
        }
      ],
      "source": [
        "# Object of class int\n",
        "x = 4\n",
        "print(type(x))"
      ]
    },
    {
      "cell_type": "code",
      "execution_count": null,
      "metadata": {
        "id": "W4ZaP-zAn5D0",
        "outputId": "a745b7bf-e347-49a0-e2d6-b69c79162dcb",
        "colab": {
          "base_uri": "https://localhost:8080/"
        }
      },
      "outputs": [
        {
          "output_type": "stream",
          "name": "stdout",
          "text": [
            "<class 'float'>\n"
          ]
        }
      ],
      "source": [
        "# Object of class float\n",
        "x = 3.4\n",
        "print(type(x))"
      ]
    },
    {
      "cell_type": "code",
      "execution_count": null,
      "metadata": {
        "id": "W4Z4rZu-n5D0",
        "outputId": "bf1c4d2d-03a6-4b3b-db69-3f09bfe1adc9",
        "colab": {
          "base_uri": "https://localhost:8080/"
        }
      },
      "outputs": [
        {
          "output_type": "stream",
          "name": "stdout",
          "text": [
            "<class 'bool'>\n"
          ]
        }
      ],
      "source": [
        "# Object of class bool\n",
        "x = True\n",
        "print(type(x))"
      ]
    },
    {
      "cell_type": "code",
      "execution_count": null,
      "metadata": {
        "id": "Nm3EEfcpn5D1",
        "outputId": "5ca95d0d-9b24-491e-d0b8-313cb3dd54be",
        "colab": {
          "base_uri": "https://localhost:8080/"
        }
      },
      "outputs": [
        {
          "output_type": "stream",
          "name": "stdout",
          "text": [
            "<class 'str'>\n"
          ]
        }
      ],
      "source": [
        "# Object of class str\n",
        "x = \"adham\"\n",
        "print(type(x))"
      ]
    },
    {
      "cell_type": "code",
      "execution_count": null,
      "metadata": {
        "id": "PaAq-FYWn5D1",
        "outputId": "8ffd256e-6661-422c-8576-81f622a60736",
        "colab": {
          "base_uri": "https://localhost:8080/"
        }
      },
      "outputs": [
        {
          "output_type": "stream",
          "name": "stdout",
          "text": [
            "<class 'list'>\n"
          ]
        }
      ],
      "source": [
        "# Object of class list\n",
        "x = [1, 2, 3]\n",
        "print(type(x))"
      ]
    },
    {
      "cell_type": "code",
      "execution_count": null,
      "metadata": {
        "id": "Aj7t9m4In5D1",
        "outputId": "2bd1b282-0f06-470d-8cd5-9bfdd83ab7ab",
        "colab": {
          "base_uri": "https://localhost:8080/"
        }
      },
      "outputs": [
        {
          "output_type": "stream",
          "name": "stdout",
          "text": [
            "<class 'dict'>\n"
          ]
        }
      ],
      "source": [
        "# Object of class dict\n",
        "x = {\"name\": \"adham\", \"age\": 18}\n",
        "print(type(x))"
      ]
    },
    {
      "cell_type": "code",
      "execution_count": null,
      "metadata": {
        "id": "vPTYvta_n5D2",
        "outputId": "32fdb229-812a-4b01-d291-1a2302ac265e",
        "colab": {
          "base_uri": "https://localhost:8080/"
        }
      },
      "outputs": [
        {
          "output_type": "stream",
          "name": "stdout",
          "text": [
            "<class 'NoneType'>\n"
          ]
        }
      ],
      "source": [
        "# Object of class None\n",
        "x = None  # Even the None!!!!\n",
        "print(type(x))"
      ]
    },
    {
      "cell_type": "markdown",
      "metadata": {
        "id": "zWUvOTJ7n5D2"
      },
      "source": [
        "## <a name=\"id2\">Functions<a>"
      ]
    },
    {
      "cell_type": "code",
      "execution_count": null,
      "metadata": {
        "id": "xE8nwQObn5D2",
        "outputId": "f613abd0-d25b-48da-bba9-15cee70bdfb1",
        "colab": {
          "base_uri": "https://localhost:8080/"
        }
      },
      "outputs": [
        {
          "output_type": "stream",
          "name": "stdout",
          "text": [
            "<class 'function'>\n",
            "<class 'function'>\n"
          ]
        }
      ],
      "source": [
        "def dummy_fun():\n",
        "    pass\n",
        "\n",
        "# Object of class function\n",
        "print(type(dummy_fun))\n",
        "\n",
        "x = dummy_fun  # We can assign it easily because it's an OBJECT!\n",
        "print(type(x))"
      ]
    },
    {
      "cell_type": "code",
      "execution_count": null,
      "metadata": {
        "id": "jxJOZA8Fn5D3",
        "outputId": "a72b0da4-720c-4c9e-b0e0-5e90c10ca49e",
        "colab": {
          "base_uri": "https://localhost:8080/"
        }
      },
      "outputs": [
        {
          "output_type": "execute_result",
          "data": {
            "text/plain": [
              "8"
            ]
          },
          "metadata": {},
          "execution_count": 9
        }
      ],
      "source": [
        "def do_something(fun, arg1, arg2):\n",
        "    result = fun(arg1, arg2)\n",
        "    return result\n",
        "\n",
        "def add(a, b):\n",
        "    return a+b\n",
        "\n",
        "do_something(add, 3, 5)  # We can pass it easily because it's an OBJECT!"
      ]
    },
    {
      "cell_type": "markdown",
      "metadata": {
        "id": "UEbYctAen5D3"
      },
      "source": [
        "**`Example`**: write a function that prints the number of times it has been invoked every time it called."
      ]
    },
    {
      "cell_type": "code",
      "execution_count": null,
      "metadata": {
        "id": "onsBBe-5n5D3",
        "outputId": "c613ffc5-7917-4b02-db60-6d7430990a15",
        "colab": {
          "base_uri": "https://localhost:8080/"
        }
      },
      "outputs": [
        {
          "output_type": "stream",
          "name": "stdout",
          "text": [
            "Hi\n",
            "1\n",
            "Hi\n",
            "2\n",
            "Hi\n",
            "3\n",
            "Hi\n",
            "4\n",
            "Hi\n",
            "5\n"
          ]
        }
      ],
      "source": [
        "def fun():\n",
        "    print(\"Hi\")\n",
        "\n",
        "fun.counter = 0   # Attribute! why? - because it's an object\n",
        "\n",
        "for _ in range(5):\n",
        "    fun()\n",
        "    fun.counter += 1\n",
        "    print(fun.counter)"
      ]
    },
    {
      "cell_type": "code",
      "execution_count": null,
      "metadata": {
        "id": "CGONAX6Xn5D3",
        "outputId": "0c61a957-4268-491c-bb8a-91e564606683",
        "colab": {
          "base_uri": "https://localhost:8080/"
        }
      },
      "outputs": [
        {
          "output_type": "stream",
          "name": "stdout",
          "text": [
            "Hi\n",
            "1\n",
            "Hi\n",
            "2\n",
            "Hi\n",
            "3\n",
            "Hi\n",
            "4\n",
            "Hi\n",
            "5\n"
          ]
        }
      ],
      "source": [
        "def fun():\n",
        "    fun.counter = getattr(fun, \"counter\", 0)+1  # getattr works with objects\n",
        "    print(\"Hi\")\n",
        "\n",
        "for _ in range(5):\n",
        "    fun()\n",
        "    print(fun.counter)"
      ]
    },
    {
      "cell_type": "markdown",
      "metadata": {
        "id": "JHVZ1lRWn5D4"
      },
      "source": [
        "## <a name=\"id3\">Modules<a>"
      ]
    },
    {
      "cell_type": "code",
      "execution_count": null,
      "metadata": {
        "id": "hNPf5pWhn5D4",
        "outputId": "b1028235-7f94-4fd3-8d98-1a2beb0f5d41",
        "colab": {
          "base_uri": "https://localhost:8080/"
        }
      },
      "outputs": [
        {
          "output_type": "stream",
          "name": "stdout",
          "text": [
            "<class 'module'>\n"
          ]
        }
      ],
      "source": [
        "import math\n",
        "\n",
        "# object of class module\n",
        "print(type(math))"
      ]
    },
    {
      "cell_type": "code",
      "execution_count": null,
      "metadata": {
        "id": "6zwqWPbPn5D4",
        "outputId": "6b4c868b-7ce9-4bcd-9ca7-0056fb073787",
        "colab": {
          "base_uri": "https://localhost:8080/"
        }
      },
      "outputs": [
        {
          "output_type": "stream",
          "name": "stdout",
          "text": [
            "3llam\n"
          ]
        }
      ],
      "source": [
        "# DON'T DO THIS AT HOME\n",
        "\n",
        "# print(math.adham) # Error\n",
        "\n",
        "math.adham = \"3llam\"\n",
        "print(math.adham)"
      ]
    }
  ],
  "metadata": {
    "kernelspec": {
      "display_name": "ml-env",
      "language": "python",
      "name": "python3"
    },
    "language_info": {
      "codemirror_mode": {
        "name": "ipython",
        "version": 3
      },
      "file_extension": ".py",
      "mimetype": "text/x-python",
      "name": "python",
      "nbconvert_exporter": "python",
      "pygments_lexer": "ipython3",
      "version": "3.11.9"
    },
    "colab": {
      "provenance": [],
      "include_colab_link": true
    }
  },
  "nbformat": 4,
  "nbformat_minor": 0
}