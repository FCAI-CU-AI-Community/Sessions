{
  "nbformat": 4,
  "nbformat_minor": 0,
  "metadata": {
    "colab": {
      "provenance": [],
      "include_colab_link": true
    },
    "kernelspec": {
      "name": "python3",
      "display_name": "Python 3"
    },
    "language_info": {
      "name": "python"
    }
  },
  "cells": [
    {
      "cell_type": "markdown",
      "metadata": {
        "id": "view-in-github",
        "colab_type": "text"
      },
      "source": [
        "<a href=\"https://colab.research.google.com/github/FCAI-CU-AI-Community/Sessions/blob/main/Session-02/OOP.ipynb\" target=\"_parent\"><img src=\"https://colab.research.google.com/assets/colab-badge.svg\" alt=\"Open In Colab\"/></a>"
      ]
    },
    {
      "cell_type": "markdown",
      "source": [
        "# Python - OOP\n",
        "\n",
        "**`FCAI-CU-AI-Community`**:\n",
        "- [Discord](https://discord.com/invite/UGpXXsQ2qw)\n",
        "- [GitHub](https://github.com/FCAI-CU-AI-Community)\n",
        "- [YouTube](https://www.youtube.com/@FCAI-CU-AI-COMMUNITY)"
      ],
      "metadata": {
        "id": "oJ2gARrheu-M"
      }
    },
    {
      "cell_type": "markdown",
      "source": [
        "# Outline:\n",
        "- [First Class](#fc)\n",
        "- [Methods and Attributes](#ex1)\n",
        "- [Inheritance](#ex2)\n",
        "- [Multiple Inheritance](#ex3)\n",
        "- [Multilevel Inheritance](#ex4)\n",
        "- [Properties: setters and getters](#ex5)"
      ],
      "metadata": {
        "id": "tRgR469Zfe5B"
      }
    },
    {
      "cell_type": "markdown",
      "source": [
        "## <a name=\"fc\">First Class<a>"
      ],
      "metadata": {
        "id": "hT0vnbjufSO1"
      }
    },
    {
      "cell_type": "code",
      "execution_count": null,
      "metadata": {
        "colab": {
          "base_uri": "https://localhost:8080/"
        },
        "id": "YwcReFKOjQKm",
        "outputId": "5d3f07b7-6e6f-4a63-88b6-7077577d7761"
      },
      "outputs": [
        {
          "output_type": "stream",
          "name": "stdout",
          "text": [
            "<class '__main__.Robot'>\n"
          ]
        }
      ],
      "source": [
        "class Robot:\n",
        "    pass\n",
        "\n",
        "\n",
        "r1 = Robot()\n",
        "print(type(r1))"
      ]
    },
    {
      "cell_type": "markdown",
      "source": [
        "## <a name=\"ex1\">Example 1: Methods and Attributes<a>"
      ],
      "metadata": {
        "id": "ZVLFYjcbf-23"
      }
    },
    {
      "cell_type": "markdown",
      "source": [
        "__init__ Method Is Initialize The Data For The Object<br>\n",
        "The __init__() function is called automatically every time the class is being used to create a new object.<br>\n",
        "\n",
        "self Refer To The Current Instance Created From The Class And Must Be First Param<br>\n",
        "self Can Be Named Anything <br>\n",
        "In Python You Dont Need To Call new() Keyword To Create Object<br>\n",
        "\n",
        "**Attributes**\n",
        "- Class Attributes: Attributes Defined Outside The Constructor,shared by all instances can be changed by ( class itself or object by class method ) <br>\n",
        "- Instance Attributes: Instance Attributes Defined Inside The Constructor <br>\n",
        "\n",
        "    - Private attributes :\n",
        "      should only be used by the owner, i.e. inside of the class definition itself.(__attribute_name)\n",
        "    - Protected (restricted) Attributes :\n",
        "      may be used, but at your own risk. Essentially, they should only be used under certain conditions.(_attribute_name)\n",
        "    - Public Attributes  :\n",
        "      can and should be freely used.can be freely used inside or outside of a class(attribute_name)\n",
        "\n",
        "\n",
        "\n",
        "\n",
        "**Methods**\n",
        "- Class Methods: (@classmethod), It Take Cls Parameter Not Self, It Doesn't Require Creation of a Class Instance\n",
        "Class methods can access class attributes, but they cannot directly access instance attributes because they do not have access to the instance (self)\n",
        "\n",
        "- Instance Methods: Take Self Parameter Which Point To Instance Created From Class, Can Have More Than One Parameter<br>\n",
        "\n",
        "- Static Methods: It Takes No Parameters, Bound To The Class Not Instance\n",
        "\n",
        "- Magic Method :  Any Method With Two Underscore in The Start and End <br>\n",
        "\n",
        "\n"
      ],
      "metadata": {
        "id": "G0bnlGrekN1r"
      }
    },
    {
      "cell_type": "code",
      "source": [
        "class Car:\n",
        "    # Class attribute (shared by all instances)\n",
        "    count = 0\n",
        "\n",
        "    def __init__(self, brand, color):\n",
        "        # Instance attributes (unique to each instance)\n",
        "        self.brand = brand       # # Public attribute\n",
        "        self.color = color       # # Public attribute\n",
        "        self.speed = 0           # # Public attribute\n",
        "        self.is_running = False  # # Public attribute\n",
        "        self.wheels = 4          # # public attribute\n",
        "\n",
        "        self.__private_number = \"123456\"   # Private attribute\n",
        "\n",
        "        Car.count += 1           # # Class attribute\n",
        "        print(f\"A new car has been created. Total cars: {Car.count}\")\n",
        "\n",
        "    #-------------------------------------------------------\n",
        "    # Instance method\n",
        "    def start(self):\n",
        "        print(f\"The {self.color} {self.brand} has started.\")\n",
        "        self.is_running = True\n",
        "    # Instance method\n",
        "    def drive(self):\n",
        "        print(f\"The {self.color} {self.brand} is driving.\")\n",
        "        self.speed += 10\n",
        "    # Instance method\n",
        "    def get_info(self):\n",
        "        print(f\"The {self.color} {self.brand} has {self.speed} km/h speed.\")\n",
        "    # Instance method\n",
        "    def get_private_number(self):\n",
        "        return self.__private_number\n",
        "    #-----------------------------------------------------------\n",
        "    # Class method\n",
        "    @classmethod\n",
        "    def get_count(cls):\n",
        "        return cls.count\n",
        "    # Class method\n",
        "    @classmethod\n",
        "    def change_count(cls, new_count):\n",
        "        cls.count = new_count\n",
        "  #-----------------------------------------------------------\n",
        "    # Static method\n",
        "    @staticmethod\n",
        "    def honk():\n",
        "        print(\"Beep beep!\")\n",
        "  #------------------------------------------------------------\n",
        "  # Magic Method\n",
        "    def __str__(self):\n",
        "        return f\"{self.brand}, {self.color}, {self.speed} km/h\"\n",
        "    def __repr__(self):\n",
        "          return f\"Car(brand='{self.brand}', color='{self.color}')\"\n",
        "    def __eq__(self, other):\n",
        "        return isinstance(other, Car) and self.brand == other.brand and self.color == other.color"
      ],
      "metadata": {
        "id": "uk8A99Yljnji"
      },
      "execution_count": null,
      "outputs": []
    },
    {
      "cell_type": "code",
      "source": [
        "Car.honk()  # Output: Beep beep!\n",
        "#--------------------------------------------------\n",
        "# Create instances\n",
        "car1 = Car(\"Toyota\", \"Red\")\n",
        "car2 = Car(\"Honda\" , \"Blue\")\n",
        "\n",
        "print(car2.color)  # public -->  Output: Blue\n",
        "print(car1.brand)  # public -->  Output: Toyota\n",
        "# print(car1.private_number) # private --> error\n",
        "print(car1.get_private_number()) # private -->  Output: 123456\n",
        "car1.honk()  # Output: Beep beep!\n",
        "#--------------------------------------------------\n",
        "print(\"-------------------------------------------------------\")\n",
        "car1.start()  # The Red Toyota has started.\n",
        "car1.drive()  # The Red Toyota is driving.\n",
        "car1.drive()  # The Red Toyota is driving.\n",
        "print(car1.get_info()) # The Red Toyota has 0 km/h speed.\n",
        "print(\"-------------------------------------------------------\")\n",
        "print(car1.get_count())  # Output: 2\n",
        "print(car2.get_count())  # Output: 2\n",
        "Car.change_count(5)  # Change the count to 5\n",
        "\n",
        "\n",
        "car1.change_count(10)  # Change the count to 10\n",
        "print(car1.get_count())  # Output: 10\n",
        "print(car2.get_count())  # Output: 10\n",
        "print(Car.count)  # Output: 4\n",
        "\n",
        "# -------------------------------------------------------\n",
        "print(\"------------------------------\")\n",
        "print( \"car1 : \" ,car1)  # __str__\n",
        "print( \"str(car1) : \",str(car1)) # # __str__ same\n",
        "print( \"car2 :\",car2)  # __str__\n",
        "print(\"----------------------------------------\")\n",
        "print( \"repr(car1):\",repr(car1))\n",
        "\n",
        "\n",
        "\n",
        "s_car1 = str(car1)\n",
        "r_car1=repr(car1)\n",
        "\n",
        "print(\"s_car1: \",s_car1)\n",
        "print(\"r_car1 : \",r_car1)\n",
        "\n",
        "print(\"type(s_car1) :\",type(s_car1))    # string\n",
        "print(\"type(r_car1): \", type(r_car1)) # string\n",
        "\n",
        "\n",
        "car3 = eval(repr(car1))\n",
        "print(\"type(car3) : \",type(car3))\n",
        "\n",
        "# s_car1.get_info() # error\n",
        "# r_car1.get_info() # error\n",
        "\n",
        "\n",
        "\n",
        "car4 = Car(\"Toyota\", \"Red\")\n",
        "car5 = Car(\"Toyota\", \"Red\")\n",
        "print(car4==car5) # True\n",
        "print(car4==car2) # False"
      ],
      "metadata": {
        "id": "vonzZVU2mpdk",
        "outputId": "f53f9b64-3edd-44b0-eb15-bbae7a43e20e",
        "colab": {
          "base_uri": "https://localhost:8080/"
        }
      },
      "execution_count": null,
      "outputs": [
        {
          "output_type": "stream",
          "name": "stdout",
          "text": [
            "Beep beep!\n",
            "A new car has been created. Total cars: 1\n",
            "A new car has been created. Total cars: 2\n",
            "Blue\n",
            "Toyota\n",
            "123456\n",
            "Beep beep!\n",
            "-------------------------------------------------------\n",
            "The Red Toyota has started.\n",
            "The Red Toyota is driving.\n",
            "The Red Toyota is driving.\n",
            "The Red Toyota has 20 km/h speed.\n",
            "None\n",
            "-------------------------------------------------------\n",
            "2\n",
            "2\n",
            "10\n",
            "10\n",
            "10\n",
            "------------------------------\n",
            "car1 :  Toyota, Red, 20 km/h\n",
            "str(car1) :  Toyota, Red, 20 km/h\n",
            "car2 : Honda, Blue, 0 km/h\n",
            "----------------------------------------\n",
            "repr(car1): Car(brand='Toyota', color='Red')\n",
            "s_car1:  Toyota, Red, 20 km/h\n",
            "r_car1 :  Car(brand='Toyota', color='Red')\n",
            "type(s_car1) : <class 'str'>\n",
            "type(r_car1):  <class 'str'>\n",
            "A new car has been created. Total cars: 11\n",
            "type(car3) :  <class '__main__.Car'>\n",
            "A new car has been created. Total cars: 12\n",
            "A new car has been created. Total cars: 13\n",
            "True\n",
            "False\n"
          ]
        }
      ]
    },
    {
      "cell_type": "markdown",
      "source": [
        "## <a name=\"ex2\">Example 2: Inheritance<a>"
      ],
      "metadata": {
        "id": "_7iRK_KFgLNF"
      }
    },
    {
      "cell_type": "code",
      "source": [
        "class Animal:\n",
        "    def __init__(self, name):\n",
        "        self.name = name\n",
        "\n",
        "    def speak(self):\n",
        "        return \"sound........\"\n",
        "    def fun1(self):\n",
        "        return \"Animal\"\n",
        "    def get_name(self):\n",
        "        return self.name\n",
        "\n",
        "# Dog inherits from Animal\n",
        "class Dog(Animal):\n",
        "    def speak(self):  # Override speak method\n",
        "        return \"Woof!\"\n",
        "    def fun2(self):\n",
        "        return \"Dog(Animal)\"\n",
        "\n",
        "# Cat inherits from Animal\n",
        "class Cat(Animal):\n",
        "    def __init__(self, name, age):\n",
        "        super().__init__(name)  # Call the parent class constructor\n",
        "        self.age = age\n",
        "\n",
        "    def fun1(self):\n",
        "        print(super().fun1())\n",
        "        return \"Cat(Animal)\"\n",
        "    def get_age(self):\n",
        "      return self.age"
      ],
      "metadata": {
        "id": "sAKgpkxATA6w"
      },
      "execution_count": null,
      "outputs": []
    },
    {
      "cell_type": "code",
      "source": [
        "# Instances of Dog and Cat\n",
        "animal=Animal(\"animal\")\n",
        "dog = Dog(\"Buddy\")\n",
        "cat = Cat(\"Whiskers\",20)\n",
        "#=================================================\n",
        "print(animal.speak()) # sound........\n",
        "print(dog.speak())    # Woof!\n",
        "print(cat.speak())    # sound........\n",
        "print(\"-\"*50)\n",
        "#=================================================\n",
        "print(animal.get_name())    # animal\n",
        "print(dog.get_name())       # Buddy\n",
        "print(cat.get_name())       # Whiskers\n",
        "print(\"-\"*50)\n",
        "#=================================================\n",
        "print(animal.fun1())    # Animal\n",
        "print(dog.fun2())       # Dog(Animal)\n",
        "print(cat.fun1())       # Animal Cat(Animal)\n",
        "print(cat.get_age())"
      ],
      "metadata": {
        "id": "8II9_Nofmk_n",
        "outputId": "0ee9771a-b1cf-4719-cc5d-b21962527966",
        "colab": {
          "base_uri": "https://localhost:8080/"
        }
      },
      "execution_count": null,
      "outputs": [
        {
          "output_type": "stream",
          "name": "stdout",
          "text": [
            "sound........\n",
            "Woof!\n",
            "sound........\n",
            "--------------------------------------------------\n",
            "animal\n",
            "Buddy\n",
            "Whiskers\n",
            "--------------------------------------------------\n",
            "Animal\n",
            "Dog(Animal)\n",
            "Animal\n",
            "Cat(Animal)\n",
            "20\n"
          ]
        }
      ]
    },
    {
      "cell_type": "markdown",
      "source": [
        "## <a name=\"ex3\">Example 3: Multiple Inheritance<a>"
      ],
      "metadata": {
        "id": "Ud3er23BWcVB"
      }
    },
    {
      "cell_type": "code",
      "source": [
        "class Engine:\n",
        "    def __init__(self, type):\n",
        "        self.type = type\n",
        "        print(\"Engine initialized.\")\n",
        "    def start_engine(self):\n",
        "        return \"Engine started.\"\n",
        "\n",
        "class Radio:\n",
        "    def __init__(self, volume):\n",
        "        self.volume = volume\n",
        "        print(\"Radio initialized.\")\n",
        "    def play_music(self):\n",
        "        return \"Playing music.\"\n",
        "\n",
        "# Car inherits from both Engine and Radio\n",
        "class Car(Engine, Radio):\n",
        "    def __init__(self, type, volume):\n",
        "        Engine.__init__(self, type)   # Initialize Engine part\n",
        "        Radio.__init__(self, volume)  # Initialize Radio part\n",
        "\n",
        "    def play_music(self):\n",
        "        return \"Playing music from car\""
      ],
      "metadata": {
        "id": "q8HnTz0DTt2O"
      },
      "execution_count": null,
      "outputs": []
    },
    {
      "cell_type": "code",
      "source": [
        "# Create instance of Car\n",
        "car = Car(\"V8\", 10)\n",
        "print(car.start_engine())  # Output: Engine started.\n",
        "print(car.play_music())    # Output: Playing music."
      ],
      "metadata": {
        "id": "m0OVhKotmhTe",
        "outputId": "760c9be4-02f4-44d1-a294-1943fc50a46c",
        "colab": {
          "base_uri": "https://localhost:8080/"
        }
      },
      "execution_count": null,
      "outputs": [
        {
          "output_type": "stream",
          "name": "stdout",
          "text": [
            "Engine initialized.\n",
            "Radio initialized.\n",
            "Engine started.\n",
            "Playing music from car\n"
          ]
        }
      ]
    },
    {
      "cell_type": "markdown",
      "source": [
        "## <a name=\"ex4\">Multilevel Inheritance<a>"
      ],
      "metadata": {
        "id": "IrKg1GA-WiCe"
      }
    },
    {
      "cell_type": "code",
      "source": [
        "class Animal:\n",
        "    def __init__(self, name):\n",
        "        self.name = name\n",
        "    def eat(self):\n",
        "        return \"Animal Eating...\"\n",
        "\n",
        "class Mammal(Animal):\n",
        "    def __init__(self, name, age):\n",
        "        super().__init__(name)  # Call parent constructor to set the name\n",
        "        self.age = age          # Initialize the age attribute\n",
        "    def give_birth(self):\n",
        "        return \"Giving birth to live young.\"\n",
        "    def eat(self):\n",
        "        return \"Mammal Eating...\"\n",
        "\n",
        "class Dog(Mammal):\n",
        "    def __init__(self, name, age, is_married):\n",
        "        super().__init__(name, age)  # Pass both name and age to Mammal's constructor\n",
        "        self.is_married = is_married  # Initialize the is_married attribute\n",
        "    def bark(self):\n",
        "        return \"Woof!\"\n",
        "    def eat(self):\n",
        "        return \"Dog Eating...\""
      ],
      "metadata": {
        "id": "5vaHdhoDWikH"
      },
      "execution_count": null,
      "outputs": []
    },
    {
      "cell_type": "code",
      "source": [
        "# Create instance of Dog\n",
        "dog = Dog(\"Buddy\", 3, True)\n",
        "print(f\"Name: {dog.name}\")      # Output: Buddy\n",
        "print(f\"Age: {dog.age}\")        # Output: 3\n",
        "print(dog.eat())                # Output: Animal Eating...\n",
        "print(dog.give_birth())         # Output: Giving birth to live young.\n",
        "print(dog.bark())               # Output: Woof!\n"
      ],
      "metadata": {
        "id": "-0rZ4a13meAy",
        "outputId": "4e389b73-af42-4a65-e0ae-a5a59196f6d9",
        "colab": {
          "base_uri": "https://localhost:8080/"
        }
      },
      "execution_count": null,
      "outputs": [
        {
          "output_type": "stream",
          "name": "stdout",
          "text": [
            "Name: Buddy\n",
            "Age: 3\n",
            "Dog Eating...\n",
            "Giving birth to live young.\n",
            "Woof!\n"
          ]
        }
      ]
    },
    {
      "cell_type": "markdown",
      "source": [
        "## <a name=\"ex5\">Properties: setters and getters<a>"
      ],
      "metadata": {
        "id": "dEQWhd5dkT1A"
      }
    },
    {
      "cell_type": "markdown",
      "source": [
        "- Use the internal attribute itself: `self.__size`\n",
        "- Use the property: `self.size`"
      ],
      "metadata": {
        "id": "iQXfy52AkyC3"
      }
    },
    {
      "cell_type": "code",
      "source": [
        "#!/usr/bin/python3\n",
        "\"\"\"Defines a class Square.\"\"\"\n",
        "\n",
        "\n",
        "class Square:\n",
        "    \"\"\"Represents a square, withe a size.\"\"\"\n",
        "\n",
        "    def __init__(self, size=0, position=(0, 0)):\n",
        "        \"\"\"Initializes the data.\n",
        "\n",
        "        Args:\n",
        "            size (int): The size of the new square\n",
        "            position (tuple): The position of the square\n",
        "        \"\"\"\n",
        "        self.size = size\n",
        "        self.position = position\n",
        "\n",
        "    def area(self):\n",
        "        \"\"\"Calculates and returns the square area\"\"\"\n",
        "        return self.__size * self.__size\n",
        "\n",
        "    @property\n",
        "    def size(self):\n",
        "        \"\"\"Gett the current size of the square.\"\"\"\n",
        "        return self.__size\n",
        "\n",
        "    @size.setter\n",
        "    def size(self, size):\n",
        "        if type(size) != int:\n",
        "            raise TypeError(\"size must be an integer\")\n",
        "        if size < 0:\n",
        "            raise ValueError(\"size must be >= 0\")\n",
        "        else:\n",
        "            self.__size = size\n",
        "\n",
        "    @property\n",
        "    def position(self):\n",
        "        \"\"\"Get the current positino of the square.\"\"\"\n",
        "        return self.__position\n",
        "\n",
        "    @position.setter\n",
        "    def position(self, position):\n",
        "        if not isinstance(position, tuple) or len(position) != 2 or \\\n",
        "            not isinstance(position[0], int) or \\\n",
        "            not isinstance(position[1], int) or position[0] < 0 or \\\n",
        "                position[1] < 0:\n",
        "            raise TypeError(\"position must be a tuple of 2 positive integers\")\n",
        "        else:\n",
        "            self.__position = position\n",
        "\n",
        "    def my_print(self):\n",
        "        \"\"\"Prints the square\"\"\"\n",
        "        if self.__size == 0:\n",
        "            print()\n",
        "        else:\n",
        "            print(self.__position[1] * '\\n', end='')\n",
        "            print(self.__size * ((self.__position[0] * ' ') +\n",
        "                                 (self.__size * '#') + '\\n'), end='')"
      ],
      "metadata": {
        "id": "5MZmscv2X3ax"
      },
      "execution_count": null,
      "outputs": []
    },
    {
      "cell_type": "code",
      "source": [
        "obj = Square(size=5, position=(0, 0))\n",
        "obj.my_print()\n",
        "print(\"--------------------------\")\n",
        "obj = Square(size=0, position=(0, 0))\n",
        "obj.my_print()\n",
        "print(\"--------------------------\")\n",
        "# obj = Square(size=\"10\", position=(0, 0)) # Error\n",
        "print(\"--------------------------\")\n",
        "# obj = Square(size=-1, position=(0, 0)) # Error\n",
        "print(\"--------------------------\")\n",
        "# obj = Square(size=10, position=(0, -1)) # Error\n",
        "print(\"--------------------------\")\n",
        "# obj = Square(size=10, position=(0, 0.5)) # Error\n",
        "print(\"--------------------------\")\n",
        "# obj = Square(size=10, position=\"0, 0\") # Error"
      ],
      "metadata": {
        "id": "I-L4DSPRlB0e",
        "outputId": "d31da765-b1de-4b14-b7d0-d1ea6f86bcc3",
        "colab": {
          "base_uri": "https://localhost:8080/"
        }
      },
      "execution_count": null,
      "outputs": [
        {
          "output_type": "stream",
          "name": "stdout",
          "text": [
            "#####\n",
            "#####\n",
            "#####\n",
            "#####\n",
            "#####\n",
            "--------------------------\n",
            "\n",
            "--------------------------\n",
            "--------------------------\n",
            "--------------------------\n",
            "--------------------------\n",
            "--------------------------\n"
          ]
        }
      ]
    },
    {
      "cell_type": "code",
      "source": [
        "obj = Square(size=10, position=(0, 0))\n",
        "\n",
        "# This will use getters (Properties) not the exact attributes\n",
        "print(obj.size)\n",
        "print(obj.position)\n",
        "# Change the getters to return anything else and try again\n",
        "# ...."
      ],
      "metadata": {
        "id": "bQc6BUmHlWg3",
        "outputId": "7e068bb7-6712-43a9-faf1-22b0d131041a",
        "colab": {
          "base_uri": "https://localhost:8080/"
        }
      },
      "execution_count": null,
      "outputs": [
        {
          "output_type": "stream",
          "name": "stdout",
          "text": [
            "10\n",
            "(0, 0)\n"
          ]
        }
      ]
    },
    {
      "cell_type": "code",
      "source": [],
      "metadata": {
        "id": "cERG7fRUmPwl"
      },
      "execution_count": null,
      "outputs": []
    }
  ]
}